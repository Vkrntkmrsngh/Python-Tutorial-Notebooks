{
 "cells": [
  {
   "cell_type": "code",
   "execution_count": null,
   "metadata": {},
   "outputs": [],
   "source": [
    "#List can have duplicate values\n",
    "courses=['history','maths','physics','arts']\n",
    "courses.append('science')\n",
    "courses.append('science')\n",
    "print(courses)"
   ]
  },
  {
   "cell_type": "code",
   "execution_count": null,
   "metadata": {},
   "outputs": [],
   "source": [
    "courses.insert(0,'chem')\n",
    "print(courses)"
   ]
  },
  {
   "cell_type": "code",
   "execution_count": null,
   "metadata": {},
   "outputs": [],
   "source": [
    "#Extend will add value individually not as a list\n",
    "courses_2=['english','painting']\n",
    "courses.extend(courses_2)\n",
    "print(courses)"
   ]
  },
  {
   "cell_type": "code",
   "execution_count": null,
   "metadata": {},
   "outputs": [],
   "source": [
    "#remove values from list, it will give error if value is not present\n",
    "courses.remove('science')\n",
    "print(courses)"
   ]
  },
  {
   "cell_type": "code",
   "execution_count": null,
   "metadata": {},
   "outputs": [],
   "source": [
    "#another way of removing values\n",
    "courses.pop()\n",
    "print(courses)\n",
    "popped=courses.pop()\n",
    "print(popped)"
   ]
  },
  {
   "cell_type": "code",
   "execution_count": null,
   "metadata": {},
   "outputs": [],
   "source": [
    "#changes made to originl list\n",
    "courses.reverse()\n",
    "print(courses)"
   ]
  },
  {
   "cell_type": "code",
   "execution_count": null,
   "metadata": {},
   "outputs": [],
   "source": [
    "courses.sort(reverse=True)\n",
    "print(courses)"
   ]
  },
  {
   "cell_type": "code",
   "execution_count": null,
   "metadata": {},
   "outputs": [],
   "source": [
    "#to not sort inplace list use sorted function\n",
    "sorted_course=sorted(courses)\n",
    "print(sorted_course)"
   ]
  },
  {
   "cell_type": "code",
   "execution_count": null,
   "metadata": {},
   "outputs": [],
   "source": [
    "#find index value\n",
    "print(courses.index('maths'))"
   ]
  },
  {
   "cell_type": "code",
   "execution_count": null,
   "metadata": {},
   "outputs": [],
   "source": [
    "#to get booloean value\n",
    "'art' in courses"
   ]
  },
  {
   "cell_type": "code",
   "execution_count": null,
   "metadata": {},
   "outputs": [],
   "source": [
    "#accessing all value in lsit\n",
    "for item in courses:\n",
    "    print(item)"
   ]
  },
  {
   "cell_type": "code",
   "execution_count": null,
   "metadata": {},
   "outputs": [],
   "source": [
    "#to access index and value of a list\n",
    "for index,course in enumerate(courses):\n",
    "    print('{} is present on index position {}'.format(course,index))\n",
    "    print(f'{course} is present on index position {index}')"
   ]
  },
  {
   "cell_type": "code",
   "execution_count": null,
   "metadata": {},
   "outputs": [],
   "source": [
    "#if want to start from different position\n",
    "#to access index and value of a list\n",
    "for index,course in enumerate(courses,start=2):\n",
    "    print('{} is present on index position {}'.format(course,index))\n",
    "    print(f'{course} is present on index position {index}')"
   ]
  },
  {
   "cell_type": "code",
   "execution_count": null,
   "metadata": {},
   "outputs": [],
   "source": [
    "#if you want to convert list to string\n",
    "courses_str=', '.join(courses)\n",
    "print(courses_str)"
   ]
  },
  {
   "cell_type": "code",
   "execution_count": null,
   "metadata": {},
   "outputs": [],
   "source": [
    "#to convert sting to list\n",
    "new_list=courses_str.split(',')\n",
    "print(new_list)"
   ]
  },
  {
   "cell_type": "markdown",
   "metadata": {},
   "source": [
    "### Tuples"
   ]
  },
  {
   "cell_type": "code",
   "execution_count": null,
   "metadata": {},
   "outputs": [],
   "source": [
    "#not mutable\n",
    "courses=('history','maths','physics','arts')\n",
    "tuple_2=courses\n",
    "print(tuple_2)"
   ]
  },
  {
   "cell_type": "markdown",
   "metadata": {},
   "source": [
    "### set"
   ]
  },
  {
   "cell_type": "code",
   "execution_count": null,
   "metadata": {},
   "outputs": [],
   "source": [
    "#unordered and no duplicate,sets are optimised for looking any value in it\n",
    "#can use intersection on it as courses.intersection(courses2),courses.difference(courses2),courses.union(courses2)\n",
    "courses={'history','maths','physics','arts'}\n",
    "print(courses)"
   ]
  },
  {
   "cell_type": "code",
   "execution_count": null,
   "metadata": {},
   "outputs": [],
   "source": [
    "#to create empty list, tuple and set\n",
    "empty_list=[]\n",
    "empty_list_1=list()\n",
    "\n",
    "empty_tuple=()\n",
    "empty_tuple_1=tuple()\n",
    "\n",
    "empty_set={}                             ##WRONG\n",
    "empty_set_1=set()"
   ]
  },
  {
   "cell_type": "markdown",
   "metadata": {},
   "source": [
    "### Dictionary"
   ]
  },
  {
   "cell_type": "code",
   "execution_count": null,
   "metadata": {},
   "outputs": [],
   "source": [
    "student={'name':'john','Age':25,'Subject':['maths','science']}\n",
    "student.get('name')"
   ]
  },
  {
   "cell_type": "code",
   "execution_count": null,
   "metadata": {},
   "outputs": [],
   "source": [
    "print(student.get('naem','Not Found'))"
   ]
  },
  {
   "cell_type": "code",
   "execution_count": null,
   "metadata": {},
   "outputs": [],
   "source": [
    "student['phone']=9875444\n",
    "print(student)"
   ]
  },
  {
   "cell_type": "code",
   "execution_count": null,
   "metadata": {},
   "outputs": [],
   "source": [
    "student['name']='raj'\n",
    "print(student)"
   ]
  },
  {
   "cell_type": "code",
   "execution_count": null,
   "metadata": {},
   "outputs": [],
   "source": [
    "#update of value can also be done using update\n",
    "student.update({'name':'Sam','Age':35})\n",
    "print(student)"
   ]
  },
  {
   "cell_type": "code",
   "execution_count": null,
   "metadata": {},
   "outputs": [],
   "source": [
    "#to delete specific value\n",
    "del student['Age']\n",
    "print(student)"
   ]
  },
  {
   "cell_type": "code",
   "execution_count": null,
   "metadata": {},
   "outputs": [],
   "source": [
    "student={'name':'john','Age':25,'Subject':['maths','science']}\n",
    "age=student.pop('Age')\n",
    "print(student)\n",
    "print(age)"
   ]
  },
  {
   "cell_type": "code",
   "execution_count": null,
   "metadata": {},
   "outputs": [],
   "source": [
    "student={'name':'john','Age':25,'Subject':['maths','science']}\n",
    "print(student.keys())\n",
    "print(student.values())\n",
    "print(student.items())"
   ]
  },
  {
   "cell_type": "code",
   "execution_count": null,
   "metadata": {},
   "outputs": [],
   "source": [
    "#for loop\n",
    "\n",
    "for key in student:\n",
    "    print(key)\n",
    "\n",
    "for key,value in student.items():\n",
    "    print(key,value)"
   ]
  },
  {
   "cell_type": "code",
   "execution_count": null,
   "metadata": {},
   "outputs": [],
   "source": [
    "# If Else\n",
    "language='python'\n",
    "\n",
    "if language=='python':\n",
    "    print('lang is python')\n",
    "else:\n",
    "    print('not python')"
   ]
  },
  {
   "cell_type": "markdown",
   "metadata": {},
   "source": [
    "### If else"
   ]
  },
  {
   "cell_type": "code",
   "execution_count": null,
   "metadata": {},
   "outputs": [],
   "source": [
    "# If Else\n",
    "language='python'\n",
    "\n",
    "if language=='python':\n",
    "    print('lang is python')\n",
    "elif language=='java':\n",
    "    print('lang is java')\n",
    "else:\n",
    "    print('not python')"
   ]
  },
  {
   "cell_type": "code",
   "execution_count": null,
   "metadata": {},
   "outputs": [],
   "source": [
    "#No switch case in python\n",
    "user='Admin'\n",
    "logged_in=True\n",
    "\n",
    "if user=='Admin' and logged_in:\n",
    "    print('Admin logged in')\n",
    "else:\n",
    "    print('Bad Login')"
   ]
  },
  {
   "cell_type": "code",
   "execution_count": null,
   "metadata": {},
   "outputs": [],
   "source": [
    "user='Admin'\n",
    "logged_in=False\n",
    "\n",
    "if not logged_in:\n",
    "    print('Please Log in')\n",
    "else:\n",
    "    print('Bad Login')"
   ]
  },
  {
   "cell_type": "code",
   "execution_count": null,
   "metadata": {},
   "outputs": [],
   "source": [
    "#Equality\n",
    "a=[1,2,3]\n",
    "b=[1,2,3]\n",
    "print(a==b)\n",
    "print(a is b)\n",
    "print(id(a))\n",
    "print(id(b))"
   ]
  },
  {
   "cell_type": "code",
   "execution_count": null,
   "metadata": {},
   "outputs": [],
   "source": [
    "a=[1,2,3]\n",
    "b=a\n",
    "print(a==b)\n",
    "print(a is b)\n",
    "print(id(a))\n",
    "print(id(b))"
   ]
  },
  {
   "cell_type": "code",
   "execution_count": null,
   "metadata": {},
   "outputs": [],
   "source": [
    "#False Values\n",
    "#False\n",
    "#None\n",
    "#Zero of any numeric type\n",
    "#an empty sequence [],()\n",
    "#an empty mapping {}\n",
    "\n",
    "\n",
    "if None:\n",
    "    print('Evaluates to True')\n",
    "else:\n",
    "    print('Evaluates to False')\n",
    "    \n",
    "if False:\n",
    "    print('Evaluates to True')\n",
    "else:\n",
    "    print('Evaluates to False')\n",
    "\n",
    "if {}:\n",
    "    print('Evaluates to True')\n",
    "else:\n",
    "    print('Evaluates to False')\n",
    "    \n",
    "if []:\n",
    "    print('Evaluates to True')\n",
    "else:\n",
    "    print('Evaluates to False')"
   ]
  },
  {
   "cell_type": "code",
   "execution_count": null,
   "metadata": {},
   "outputs": [],
   "source": [
    "#Loops and itterations\n",
    "\n",
    "#Break\n",
    "\n",
    "nums=[1,2,3,4]\n",
    "\n",
    "for num in nums:\n",
    "    if num==3:\n",
    "        print('Found!')\n",
    "        break\n",
    "    print(num)"
   ]
  },
  {
   "cell_type": "markdown",
   "metadata": {},
   "source": [
    "### Functions"
   ]
  },
  {
   "cell_type": "code",
   "execution_count": null,
   "metadata": {},
   "outputs": [],
   "source": [
    "def hello_func():\n",
    "    print('Hello')"
   ]
  },
  {
   "cell_type": "code",
   "execution_count": null,
   "metadata": {},
   "outputs": [],
   "source": [
    "print(hello_func)\n",
    "print(hello_func())"
   ]
  },
  {
   "cell_type": "code",
   "execution_count": null,
   "metadata": {},
   "outputs": [],
   "source": [
    "def hello_2():\n",
    "    return 'Hi Univ'"
   ]
  },
  {
   "cell_type": "code",
   "execution_count": null,
   "metadata": {},
   "outputs": [],
   "source": [
    "hello_2()"
   ]
  },
  {
   "cell_type": "code",
   "execution_count": null,
   "metadata": {},
   "outputs": [],
   "source": [
    "'Hello world'.upper()"
   ]
  },
  {
   "cell_type": "code",
   "execution_count": null,
   "metadata": {},
   "outputs": [],
   "source": [
    "def hello_world(greeting='Hello' ):\n",
    "    return '{} function'.format(greeting)"
   ]
  },
  {
   "cell_type": "code",
   "execution_count": null,
   "metadata": {},
   "outputs": [],
   "source": [
    "hello_world()"
   ]
  },
  {
   "cell_type": "code",
   "execution_count": null,
   "metadata": {},
   "outputs": [],
   "source": [
    "def student_info(*args,**kwargs):\n",
    "    print(args)\n",
    "    print(kwargs)"
   ]
  },
  {
   "cell_type": "code",
   "execution_count": null,
   "metadata": {},
   "outputs": [],
   "source": [
    "student_info('math','arts',name='Sam',Age=24)"
   ]
  },
  {
   "cell_type": "code",
   "execution_count": null,
   "metadata": {},
   "outputs": [],
   "source": [
    "courses=['math','arts']\n",
    "info={'name':'Sam','Age':24}\n",
    "\n",
    "student_info(courses,info)"
   ]
  },
  {
   "cell_type": "code",
   "execution_count": null,
   "metadata": {},
   "outputs": [],
   "source": [
    "courses=['math','arts']\n",
    "info={'name':'Sam','Age':24}\n",
    "\n",
    "student_info(*courses,**info)   #* for list unpacking,** for dict unpacking"
   ]
  },
  {
   "cell_type": "code",
   "execution_count": null,
   "metadata": {},
   "outputs": [],
   "source": [
    "#number of days in each month\n",
    "month_days=[0,31,28,31,30,31,30,31,31,30,31,30,31]\n",
    "\n",
    "def is_leap_year(year):\n",
    "    return year%4==0 and (year%100!=0 or year%400==0)\n",
    "\n",
    "def days_in_month(year,month):\n",
    "    '''Returns number of days in a month in given year'''\n",
    "    if month==2 and is_leap_year(year):\n",
    "        return 28\n",
    "    if not 1<=month<=12:\n",
    "        return 'Invalid Month'\n",
    "    \n",
    "    return month_days[month]\n",
    "    \n",
    "         "
   ]
  },
  {
   "cell_type": "code",
   "execution_count": null,
   "metadata": {},
   "outputs": [],
   "source": [
    "days_in_month(1901,2)"
   ]
  },
  {
   "cell_type": "code",
   "execution_count": null,
   "metadata": {},
   "outputs": [],
   "source": [
    "#save file as my_module.py\n",
    "print('imported my_module')\n",
    "\n",
    "test='test string'\n",
    "\n",
    "def find_index(to_search,target):\n",
    "    '''Find the index of value in a sequence'''\n",
    "    for i,value in enumerate(to_search):\n",
    "        if value==target:\n",
    "            return i\n",
    "    return -1"
   ]
  },
  {
   "cell_type": "code",
   "execution_count": null,
   "metadata": {},
   "outputs": [],
   "source": [
    "import sys\n",
    "print(sys.path)"
   ]
  },
  {
   "cell_type": "code",
   "execution_count": null,
   "metadata": {},
   "outputs": [],
   "source": [
    "#you can append any path to this to import any module which is placed in that folder\n",
    "#sys.path.append('C:\\Users\\671869\\Downloads\\Machine-Learning-Training\\Machine-Learning-Training')\n",
    "#or you can add PYTHONPATH in enviornment variables to import the modules\n"
   ]
  },
  {
   "cell_type": "code",
   "execution_count": null,
   "metadata": {},
   "outputs": [],
   "source": [
    "import random\n",
    "\n",
    "courses=['math','science','arts','physics']\n",
    "random_course=random.choice(courses)\n",
    "print(random_course)"
   ]
  },
  {
   "cell_type": "code",
   "execution_count": null,
   "metadata": {},
   "outputs": [],
   "source": [
    "import math\n",
    "\n",
    "rads=math.radians(90)\n",
    "print(rads)\n",
    "print(math.sin(rads))"
   ]
  },
  {
   "cell_type": "code",
   "execution_count": null,
   "metadata": {},
   "outputs": [],
   "source": [
    "import datetime\n",
    "import calendar as cal\n",
    "\n",
    "today=datetime.date.today()\n",
    "print(today)\n",
    "print(cal.isleap(2020))"
   ]
  },
  {
   "cell_type": "code",
   "execution_count": null,
   "metadata": {},
   "outputs": [],
   "source": [
    "import os\n",
    "print(os.getcwd())\n",
    "print(os.__file__)"
   ]
  },
  {
   "cell_type": "code",
   "execution_count": null,
   "metadata": {},
   "outputs": [],
   "source": [
    "import antigravity"
   ]
  },
  {
   "cell_type": "markdown",
   "metadata": {},
   "source": [
    "## PIP"
   ]
  },
  {
   "cell_type": "code",
   "execution_count": null,
   "metadata": {},
   "outputs": [],
   "source": [
    "#pip list in command prompt will show all installed packages\n",
    "#pip search package_name will check existance of the package\n",
    "#pip uninstall package_name will uninstall the package\n",
    "#pip list -o will list not upto date installed packages\n",
    "#pip install -U package_name will update the packages\n",
    "#pip freeze > requirements.txt will add all installed packages name in requirements file\n",
    "#pip install -r requirements.txt will install all packages which is present on requirements file\n",
    "#pip "
   ]
  },
  {
   "cell_type": "code",
   "execution_count": null,
   "metadata": {},
   "outputs": [],
   "source": [
    "#Virtualenv\n",
    "#pip install virtualenv\n",
    "#create a directory where you want to keep all your virtual envs mkdir all_virtual_envs\n",
    "#cd all_virtual_envs\n",
    "#virtualenv env_name\n",
    "#to activate it C:\\Users\\671869\\Documents\\virtual_envs\\project1_env\\Scripts\\activate.bat\n",
    "#install packages which you need\n",
    "#pip freeze --local >requiremnets.txt\n",
    "#deactivate will exit from virtual env\n",
    "#after deactivation, if you want to remove it, rm -rf env_name/\n",
    "\n",
    "\n",
    "##conda create --name my_app27 python=2.7               --to create virtual env with different version\n",
    "#conda remove --name myapp26 --all                   --to remove virtual env\n"
   ]
  },
  {
   "cell_type": "markdown",
   "metadata": {},
   "source": [
    "## Virtual Envs"
   ]
  },
  {
   "cell_type": "code",
   "execution_count": null,
   "metadata": {},
   "outputs": [],
   "source": [
    "#How to manage different projects\n",
    "\n",
    "\n",
    "#suppose I want to create a project with some depedencies, steps\n",
    "#create dir, mkdir my_project\n",
    "#cd my_project\n",
    "#conda create --name my_project_env flask pandas numpy\n",
    "#activate my_project_env\n",
    "#to deactivate use deactivate\n",
    "\n",
    "#to get all dependencies of this enviornment, conda env export > enviornment.yml\n",
    "\n",
    "#to replicate this env,  conda env create -f enviornment.yml (to replicate same env)\n",
    "\n",
    "#conda env list   ,it will list all vir envs\n",
    "\n",
    "#conda create --name my_app27 python=2.7               --to create virtual env with different version"
   ]
  },
  {
   "cell_type": "markdown",
   "metadata": {},
   "source": [
    "## Scope"
   ]
  },
  {
   "cell_type": "code",
   "execution_count": null,
   "metadata": {},
   "outputs": [],
   "source": [
    "x='global x'\n",
    "\n",
    "def test():\n",
    "    global x\n",
    "    x='local x'\n",
    "    print(x)\n",
    "\n",
    "test()\n",
    "print(x)"
   ]
  },
  {
   "cell_type": "code",
   "execution_count": null,
   "metadata": {},
   "outputs": [],
   "source": [
    "import builtins\n",
    "print(dir(builtins))"
   ]
  },
  {
   "cell_type": "markdown",
   "metadata": {},
   "source": [
    "## List Comprihensions"
   ]
  },
  {
   "cell_type": "code",
   "execution_count": null,
   "metadata": {},
   "outputs": [],
   "source": [
    "#List Comprihensions\n",
    "nums=[1,2,3,4,5,6,7,8,9,10]\n",
    "\n",
    "#I want n for each n in nums\n",
    "my_list=[]\n",
    "for n in nums:\n",
    "    my_list.append(n)\n",
    "print(my_list)\n",
    "\n",
    "my_list_comp=[n for n in nums]\n",
    "print(my_list_comp)\n",
    "\n",
    "#I want n*n for each value of n in nums\n",
    "my_list_sq=[]\n",
    "for n in nums:\n",
    "    my_list_sq.append(n*n)\n",
    "print(my_list_sq) \n",
    "\n",
    "my_list_comp_sq=[n*n for n in nums]\n",
    "print(my_list_comp_sq)\n",
    "\n",
    "#I want n for each n in nums if n is even\n",
    "my_list_even=[]\n",
    "for n in nums:\n",
    "    if n%2==0:\n",
    "        my_list_even.append(n)\n",
    "print(my_list_even)\n",
    "\n",
    "my_list_comp_even=[n for n in nums if n%2==0]\n",
    "print(my_list_comp_even)\n",
    "\n",
    "#I want a (letter, number) pai4 in each letter in 'abcd' and number '0123'\n",
    "let_num_list=[]\n",
    "for letter in list('abcd'):\n",
    "    for num in range(4):\n",
    "        let_num_list.append((letter,num))\n",
    "print(let_num_list)\n",
    "\n",
    "\n",
    "let_num_list_comp=[(let,num) for let in list('abcd') for num in range(4)]\n",
    "print(let_num_list_comp)"
   ]
  },
  {
   "cell_type": "markdown",
   "metadata": {},
   "source": [
    "## dictonary comprihensions"
   ]
  },
  {
   "cell_type": "code",
   "execution_count": null,
   "metadata": {},
   "outputs": [],
   "source": [
    "#dictonary comprihensions\n",
    "\n",
    "names=['Bruce','clarke','Peter','Logan','Wade']\n",
    "heros=['Batman','Superman','Spiderman','Wolverine','Deadpool']\n",
    "\n",
    "#I want a dictonary for each name and hero in names and heros\n",
    "my_dict={}\n",
    "for name,hero in zip(names,heros):\n",
    "    my_dict[name]=hero\n",
    "\n",
    "print(my_dict)\n",
    "\n",
    "my_dict_comp={name:hero for name,hero in zip(names,heros)}"
   ]
  },
  {
   "cell_type": "markdown",
   "metadata": {},
   "source": [
    "## Set Comprihensions"
   ]
  },
  {
   "cell_type": "code",
   "execution_count": null,
   "metadata": {},
   "outputs": [],
   "source": [
    "#Set Comprihensions\n",
    "num=[1,2,1,1,1,3,4,5,6,7,8]\n",
    "\n",
    "#create set for given list\n",
    "my_set=set()\n",
    "for n in num:\n",
    "    my_set.add(n)\n",
    "print(my_set)\n",
    "\n",
    "my_set_comp={n for n in num}\n",
    "print(my_set_comp)"
   ]
  },
  {
   "cell_type": "code",
   "execution_count": null,
   "metadata": {},
   "outputs": [],
   "source": [
    "#Generator expression is so much similar to list comprihensions\n",
    "\n",
    "#I want to yeild 'n*n' for each n in nums\n",
    "nums=[1,2,3,4,5,6,7,8,9,10]\n",
    "def gen_func(nums):\n",
    "    for n in nums:\n",
    "        yield n*n\n",
    "        \n",
    "my_gen=gen_func(nums)\n",
    "\n",
    "for i in my_gen:\n",
    "    print(i)\n",
    "    \n",
    "\n",
    "\n",
    "\n",
    "my_gen_comp=(n*n for n in nums)\n",
    "for i in my_gen_comp:\n",
    "    print(i)"
   ]
  },
  {
   "cell_type": "markdown",
   "metadata": {},
   "source": [
    "## Sorting"
   ]
  },
  {
   "cell_type": "code",
   "execution_count": null,
   "metadata": {},
   "outputs": [],
   "source": [
    "#Sorting of list,tuple and sets\n",
    "\n",
    "my_list=[5,1,7,3,9,5,8]\n",
    "my_list_sorted=sorted(my_list)\n",
    "print(my_list)\n",
    "print(my_list_sorted)\n",
    "\n",
    "#Difference between sorted function and sort method of list is,sort()  changes original list and returns None wheare as sort(my_list) return sorted list\n",
    "\n",
    "my_list1=[5,1,7,3,9,5,8]\n",
    "my_list1.sort()\n",
    "print(my_list1)\n",
    "\n",
    "my_list2=[5,1,7,3,9,5,8]\n",
    "my_list2_sorted=sorted(my_list,reverse=True)\n",
    "print(my_list2)\n",
    "print(my_list2_sorted)\n",
    "\n",
    "\n",
    "my_list3=[5,1,7,3,9,5,8]\n",
    "my_list3.sort(reverse=True)\n",
    "print(my_list3)\n",
    "\n",
    "#tuple\n",
    "#it doesnt have sort method so use sorted method and returns list\n",
    "\n",
    "my_tup=(5,1,7,3,9,5,8)\n",
    "my_tup_sorted=sorted(my_tup)\n",
    "print(my_tup)\n",
    "print(my_tup_sorted)"
   ]
  },
  {
   "cell_type": "code",
   "execution_count": null,
   "metadata": {},
   "outputs": [],
   "source": [
    "#we will be using sorted function as it can be applied on other than list as well.\n",
    "my_list=[-3,-2,-1,1,2,3]\n",
    "my_sorted_list=sorted(my_list)\n",
    "print(my_sorted_list)\n",
    "\n",
    "\n",
    "my_list=[-4,-6,-7,1,2,3]\n",
    "my_sorted_list=sorted(my_list,key=abs)\n",
    "print(my_sorted_list)"
   ]
  },
  {
   "cell_type": "code",
   "execution_count": null,
   "metadata": {},
   "outputs": [],
   "source": [
    "#Using seperate method e_sort\n",
    "class Employee():\n",
    "    \n",
    "    def __init__(self,name,age,salary):\n",
    "        self.name=name\n",
    "        self.age=age\n",
    "        self.salary=salary\n",
    "        \n",
    "    def __repr__(self):\n",
    "        return '({},{},{})'.format(self.name,self.age,self.salary)\n",
    "    \n",
    "e1=Employee('carl',34,2000)\n",
    "e2=Employee('Mark',24,1500)\n",
    "e3=Employee('dark',25,1600)\n",
    "\n",
    "employees=[e1,e2,e3]\n",
    "\n",
    "def e_sort(emp):\n",
    "    return emp.name\n",
    "\n",
    "s_employee=sorted(employees,key=e_sort)\n",
    "print(s_employee)"
   ]
  },
  {
   "cell_type": "code",
   "execution_count": null,
   "metadata": {},
   "outputs": [],
   "source": [
    "#Using Lambda\n",
    "class Employee():\n",
    "    \n",
    "    def __init__(self,name,age,salary):\n",
    "        self.name=name\n",
    "        self.age=age\n",
    "        self.salary=salary\n",
    "        \n",
    "    def __repr__(self):\n",
    "        return '({},{},{})'.format(self.name,self.age,self.salary)\n",
    "    \n",
    "e1=Employee('carl',34,2000)\n",
    "e2=Employee('Mark',24,1500)\n",
    "e3=Employee('dark',25,1600)\n",
    "\n",
    "employees=[e1,e2,e3]\n",
    "\n",
    "\n",
    "s_employee=sorted(employees,key=lambda e:e.name)\n",
    "print(s_employee)"
   ]
  },
  {
   "cell_type": "code",
   "execution_count": null,
   "metadata": {},
   "outputs": [],
   "source": [
    "#Using attrgetter\n",
    "from operator import attrgetter\n",
    "class Employee():\n",
    "    \n",
    "    def __init__(self,name,age,salary):\n",
    "        self.name=name\n",
    "        self.age=age\n",
    "        self.salary=salary\n",
    "        \n",
    "    def __repr__(self):\n",
    "        return '({},{},{})'.format(self.name,self.age,self.salary)\n",
    "    \n",
    "e1=Employee('carl',34,2000)\n",
    "e2=Employee('Mark',24,1500)\n",
    "e3=Employee('dark',25,1600)\n",
    "\n",
    "employees=[e1,e2,e3]\n",
    "\n",
    "\n",
    "s_employee=sorted(employees,key=attrgetter('age'))\n",
    "print(s_employee)"
   ]
  },
  {
   "cell_type": "markdown",
   "metadata": {},
   "source": [
    "## String formating"
   ]
  },
  {
   "cell_type": "code",
   "execution_count": null,
   "metadata": {},
   "outputs": [],
   "source": [
    "person={'name':'Sam','age':23}\n",
    "sentence='My name is '+person['name']+' and my age is '+str(person['age'])\n",
    "print(sentence)\n",
    "\n",
    "sen1='My name is {} and my age is {}'.format(person['name'],person['age'])\n",
    "print(sen1)\n",
    "\n",
    "l=['jen',30]\n",
    "sen4='My name is {0[0]} and my age is {0[1]}'.format(l)\n",
    "print(sen4)\n",
    "\n",
    "sen5='My name is {0} and my age is {1}'.format(person['name'],person['age'])\n",
    "print(sen5)"
   ]
  },
  {
   "cell_type": "code",
   "execution_count": null,
   "metadata": {},
   "outputs": [],
   "source": [
    "tag='h1'\n",
    "text='this is headline'\n",
    "\n",
    "sen3='<{0}>{1}</{0}>'.format(tag,text)\n",
    "print(sen3)"
   ]
  },
  {
   "cell_type": "code",
   "execution_count": null,
   "metadata": {},
   "outputs": [],
   "source": [
    "sen2='My name is {0[name]} and my age is {1[age]}'.format(person,person)\n",
    "print(sen2)\n",
    "\n",
    "sen3='My name is {0[name]} and my age is {0[age]}'.format(person)\n",
    "print(sen3)"
   ]
  },
  {
   "cell_type": "code",
   "execution_count": null,
   "metadata": {},
   "outputs": [],
   "source": [
    "class Person():\n",
    "    \n",
    "    def __init__(self,name,age):\n",
    "        self.name=name\n",
    "        self.age=age\n",
    "        \n",
    "        \n",
    "p1=Person('Dom',25)\n",
    "\n",
    "sen7='My name is {0.name} and my age is {0.age}'.format(p1)\n",
    "print(sen7)"
   ]
  },
  {
   "cell_type": "code",
   "execution_count": null,
   "metadata": {},
   "outputs": [],
   "source": [
    "sen8='My name is {name} and my age is {age}'.format(name='Sam',age=26)\n",
    "print(sen8)"
   ]
  },
  {
   "cell_type": "code",
   "execution_count": null,
   "metadata": {},
   "outputs": [],
   "source": [
    "person={'name':'Sam','age':23}\n",
    "\n",
    "sen9='My name is {name} and my age is {age}'.format(**person)\n",
    "print(sen9)"
   ]
  },
  {
   "cell_type": "code",
   "execution_count": null,
   "metadata": {},
   "outputs": [],
   "source": [
    "for i in range(1,11):\n",
    "    print('the value is {:03}'.format(i))"
   ]
  },
  {
   "cell_type": "code",
   "execution_count": null,
   "metadata": {},
   "outputs": [],
   "source": [
    "pi=3.14794823\n",
    "\n",
    "print('the value is {:.2f}'.format(pi))"
   ]
  },
  {
   "cell_type": "code",
   "execution_count": null,
   "metadata": {},
   "outputs": [],
   "source": [
    "sentance='1 MB is equal to {:,.2f} bytes'.format(1000**2)\n",
    "print(sentance)"
   ]
  },
  {
   "cell_type": "code",
   "execution_count": null,
   "metadata": {},
   "outputs": [],
   "source": [
    "import datetime\n",
    "\n",
    "my_date=datetime.datetime(2018,9,24,12,30,45)\n",
    "\n",
    "print(my_date)\n",
    "\n",
    "sentance='{:%B %d,%Y}'.format(my_date)\n",
    "print(sentance)"
   ]
  },
  {
   "cell_type": "code",
   "execution_count": null,
   "metadata": {},
   "outputs": [],
   "source": [
    "sentance='{0:%B %d,%Y} fell on a {0:%A} and was the {0:%j} day of the year'.format(my_date)\n",
    "print(sentance)"
   ]
  },
  {
   "cell_type": "markdown",
   "metadata": {},
   "source": [
    "## OS Module"
   ]
  },
  {
   "cell_type": "code",
   "execution_count": null,
   "metadata": {},
   "outputs": [],
   "source": [
    "import os\n",
    "\n",
    "#to check all available option\n",
    "print(dir(os))\n",
    "\n",
    "#cwd\n",
    "print(os.getcwd())\n",
    "#C:\\Users\\671869\\Downloads\\Machine-Learning-Training\\Machine-Learning-Training\n",
    "\n",
    "#change dir\n",
    "print(os.chdir('C:\\\\Users\\\\671869\\\\Downloads\\\\Machine-Learning-Training\\\\'))\n",
    "print(os.getcwd())\n",
    "\n",
    "print(os.chdir('C:\\\\Users\\\\671869\\\\Downloads\\\\Machine-Learning-Training\\\\Machine-Learning-Training'))\n",
    "print(os.getcwd())\n",
    "\n",
    "\n",
    "#files in current dir\n",
    "print(os.listdir())"
   ]
  },
  {
   "cell_type": "code",
   "execution_count": null,
   "metadata": {},
   "outputs": [],
   "source": [
    "#create folder in current folder\n",
    "\n",
    "#to create one folder in current dir\n",
    "#os.mkdir('os-demo\\\\test_folder')\n",
    "\n",
    "#to create folder tree in current directory\n",
    "#os.makedirs('os-demo\\\\test_folder')\n",
    "\n",
    "print(os.listdir())"
   ]
  },
  {
   "cell_type": "code",
   "execution_count": null,
   "metadata": {},
   "outputs": [],
   "source": [
    "#to remove directories\n",
    "\n",
    "#os.rmdir('test_folder')\n",
    "\n",
    "os.removedirs('os-demo\\\\test_folder')"
   ]
  },
  {
   "cell_type": "code",
   "execution_count": null,
   "metadata": {},
   "outputs": [],
   "source": [
    "#rename a file or folder\n",
    "\n",
    "#File\n",
    "#os.rename('new.txt','demo.txt')\n",
    "\n",
    "\n",
    "print(os.stat('demo.txt'))\n",
    "\n",
    "print(os.stat('demo.txt').st_size)\n",
    "\n",
    "#mod_time=os.stat('demo.txt').st_mtime\n",
    "#print(datetime.tzinfo(mod_time))"
   ]
  },
  {
   "cell_type": "code",
   "execution_count": null,
   "metadata": {},
   "outputs": [],
   "source": [
    "#entire dir tree\n",
    "\n",
    "for dirpath,dirname,filenames in os.walk('C:\\\\Users\\\\671869\\\\Downloads'):\n",
    "    print('Current path:',dirpath)\n",
    "    print('Directories:',dirname)\n",
    "    print('Files:',filenames)\n",
    "    print()"
   ]
  },
  {
   "cell_type": "code",
   "execution_count": null,
   "metadata": {},
   "outputs": [],
   "source": [
    "#get enviorn variable\n",
    "\n",
    "print(os.environ.get('HOME'))"
   ]
  },
  {
   "cell_type": "code",
   "execution_count": null,
   "metadata": {},
   "outputs": [],
   "source": [
    "#joining two path\n",
    "file_path=os.path.join('C:\\\\Users\\\\671869\\\\Downloads','test.txt')\n",
    "print(file_path)"
   ]
  },
  {
   "cell_type": "markdown",
   "metadata": {},
   "source": [
    "## Datetime"
   ]
  },
  {
   "cell_type": "markdown",
   "metadata": {},
   "source": [
    "## File object"
   ]
  },
  {
   "cell_type": "code",
   "execution_count": null,
   "metadata": {},
   "outputs": [],
   "source": [
    "#not recommended(r,w,a,)\n",
    "f=open('demo.txt','r')\n",
    "print(f.name)\n",
    "print(f.mode)\n",
    "print(f.buffer)\n",
    "f.close()"
   ]
  },
  {
   "cell_type": "code",
   "execution_count": null,
   "metadata": {},
   "outputs": [],
   "source": [
    "#always close the file which opened,use context managers\n",
    "with open('demo.txt','r') as f:\n",
    "    f_content=f.read()\n",
    "    print(f_content)\n",
    "\n",
    "print(f.closed)\n",
    "#print(f.read())\n",
    "\n",
    "#for one line in large files\n",
    "with open('demo.txt','r') as f:\n",
    "    f_content=f.readline()\n",
    "    print(f_content,end='')\n",
    "    \n",
    "\n",
    "#for large files\n",
    "with open('demo.txt','r') as f:\n",
    "    for line in f:\n",
    "        print(line,end='')"
   ]
  },
  {
   "cell_type": "code",
   "execution_count": null,
   "metadata": {},
   "outputs": [],
   "source": [
    "#Best option\n",
    "with open('demo.txt','r') as f:\n",
    "    \n",
    "    chunck=10\n",
    "    f_to_read=f.read(chunck)\n",
    "    \n",
    "    while len(f_to_read)>0:\n",
    "        print(f_to_read,end='')\n",
    "        f_to_read=f.read(chunck)   "
   ]
  },
  {
   "cell_type": "code",
   "execution_count": null,
   "metadata": {},
   "outputs": [],
   "source": [
    "#if you want to start from start or any position you want every time\n",
    "\n",
    "with open('demo.txt','r') as f:\n",
    "    \n",
    "    chunck=10\n",
    "    f_to_read=f.read(chunck)\n",
    "    print(f_to_read,end='')\n",
    "    \n",
    "    f.seek(0)\n",
    "    \n",
    "    f_to_read=f.read(chunck)\n",
    "    print(f_to_read,end='')"
   ]
  },
  {
   "cell_type": "code",
   "execution_count": null,
   "metadata": {},
   "outputs": [],
   "source": [
    "#writing to files, it will overwrite if file exist, use a to append in existing file\n",
    "\n",
    "with open('demo1.txt','w') as f:\n",
    "    f.write('test')\n",
    "    f.seek(0)\n",
    "    f.write('R')\n"
   ]
  },
  {
   "cell_type": "code",
   "execution_count": null,
   "metadata": {},
   "outputs": [],
   "source": [
    "with open('demo.txt','r') as rf:\n",
    "    with open('demo_copy.txt','w') as wf:\n",
    "        for line in rf:\n",
    "            wf.write(line)\n",
    "    \n"
   ]
  },
  {
   "cell_type": "code",
   "execution_count": null,
   "metadata": {},
   "outputs": [],
   "source": [
    "#if you want to work with pictures the use rb and wb\n",
    "\n",
    "with open('demo.jpg','rb') as rf:\n",
    "    with open('demo_copy.jpg','wb') as wf:\n",
    "        for line in rf:\n",
    "            wf.write(line)"
   ]
  },
  {
   "cell_type": "code",
   "execution_count": null,
   "metadata": {},
   "outputs": [],
   "source": [
    "with open('demo.jpg','rb') as rf:\n",
    "    with open('demo_copy.jpg','wb') as wf:\n",
    "        chunck_size=4096\n",
    "        rf_chunck=rf.read(chunck_size)\n",
    "        while len(rf_chunck)>0:\n",
    "            wf.write(rf_chunck)\n",
    "            rf_chunck=rf.read(chunck_size)"
   ]
  },
  {
   "cell_type": "markdown",
   "metadata": {},
   "source": [
    "## Automate Parsing and Renaming of Multiple Files"
   ]
  },
  {
   "cell_type": "markdown",
   "metadata": {},
   "source": [
    "## random Module"
   ]
  },
  {
   "cell_type": "code",
   "execution_count": null,
   "metadata": {},
   "outputs": [],
   "source": [
    "import random\n",
    "\n",
    "#to get random value\n",
    "value=random.random()\n",
    "print(value)\n",
    "\n",
    "#to get value b/w 1 and 10\n",
    "value=random.uniform(1,10)\n",
    "print(value)\n",
    "\n",
    "#value between 1 and 6\n",
    "value=random.randint(1,6)\n",
    "print(value)\n",
    "\n",
    "#to get value from list\n",
    "greeting=('Hi','Hello','Hey')\n",
    "value=random.choice(greeting)\n",
    "print(value)\n",
    "\n",
    "#to get value from list with 10 outcomes\n",
    "colors=['Red','Green','Blue']\n",
    "value=random.choices(colors,k=10)\n",
    "print(value)\n",
    "\n",
    "#to get value from list with 10 outcomes with different weights\n",
    "value=random.choices(colors,weights=[18,18,2], k=10)\n",
    "print(value)\n",
    "\n",
    "#to get value b/w 52 cards\n",
    "deck=list(range(1,53))\n",
    "value=random.shuffle(deck)\n",
    "print(deck)\n",
    "\n",
    "#to get unique values from deck\n",
    "hand=random.sample(deck,k=5)\n",
    "print(hand)"
   ]
  },
  {
   "cell_type": "code",
   "execution_count": null,
   "metadata": {},
   "outputs": [],
   "source": [
    "''' Super simple module to create basic random data for tutorials'''\n",
    "import random\n",
    "\n",
    "first_names = ['John', 'Jane', 'Corey', 'Travis', 'Dave', 'Kurt', 'Neil', 'Sam', 'Steve', 'Tom', 'James', 'Robert', 'Michael', 'Charles', 'Joe', 'Mary', 'Maggie', 'Nicole', 'Patricia', 'Linda', 'Barbara', 'Elizabeth', 'Laura', 'Jennifer', 'Maria']\n",
    "\n",
    "last_names = ['Smith', 'Doe', 'Jenkins', 'Robinson', 'Davis', 'Stuart', 'Jefferson', 'Jacobs', 'Wright', 'Patterson', 'Wilks', 'Arnold', 'Johnson', 'Williams', 'Jones', 'Brown', 'Davis', 'Miller', 'Wilson', 'Moore', 'Taylor', 'Anderson', 'Thomas', 'Jackson', 'White', 'Harris', 'Martin']\n",
    "\n",
    "street_names = ['Main', 'High', 'Pearl', 'Maple', 'Park', 'Oak', 'Pine', 'Cedar', 'Elm', 'Washington', 'Lake', 'Hill']\n",
    "\n",
    "fake_cities = ['Metropolis', 'Eerie', \"King's Landing\", 'Sunnydale', 'Bedrock', 'South Park', 'Atlantis', 'Mordor', 'Olympus', 'Dawnstar', 'Balmora', 'Gotham', 'Springfield', 'Quahog', 'Smalltown', 'Epicburg', 'Pythonville', 'Faketown', 'Westworld', 'Thundera', 'Vice City', 'Blackwater', 'Oldtown', 'Valyria', 'Winterfell', 'Braavos‎', 'Lakeview']\n",
    "\n",
    "states = ['AL', 'AK', 'AZ', 'AR', 'CA', 'CO', 'CT', 'DC', 'DE', 'FL', 'GA', 'HI', 'ID', 'IL', 'IN', 'IA', 'KS', 'KY', 'LA', 'ME', 'MD', 'MA', 'MI', 'MN', 'MS', 'MO', 'MT', 'NE', 'NV', 'NH', 'NJ', 'NM', 'NY', 'NC', 'ND', 'OH', 'OK', 'OR', 'PA', 'RI', 'SC', 'SD', 'TN', 'TX', 'UT', 'VT', 'VA', 'WA', 'WV', 'WI', 'WY']\n",
    "\n",
    "for num in range(100):\n",
    "    first = random.choice(first_names)\n",
    "    last = random.choice(last_names)\n",
    "\n",
    "    phone = f'{random.randint(100, 999)}-555-{random.randint(1000,9999)}'\n",
    "\n",
    "    street_num = random.randint(100, 999)\n",
    "    street = random.choice(street_names)\n",
    "    city = random.choice(fake_cities)\n",
    "    state = random.choice(states)\n",
    "    zip_code = random.randint(10000, 99999)\n",
    "    address = f'{street_num} {street} St., {city} {state} {zip_code}'\n",
    "\n",
    "    email = first.lower() + last.lower() + '@bogusemail.com'\n",
    "\n",
    "    print(f'{first} {last}\\n{phone}\\n{address}\\n{email}\\n')"
   ]
  },
  {
   "cell_type": "markdown",
   "metadata": {},
   "source": [
    "## csv"
   ]
  },
  {
   "cell_type": "code",
   "execution_count": null,
   "metadata": {},
   "outputs": [],
   "source": [
    "import csv\n",
    "\n",
    "with open('csv_file.csv','r') as csv_file:\n",
    "    csv_reader=csv.reader(csv_file)\n",
    "    \n",
    "    #it will skip the header with one value\n",
    "    #next(csv_reader)\n",
    "    \n",
    "    #create a file with values from file in csv_file\n",
    "    with open('new_csv_file','w') as new_csv_file:\n",
    "        csv_writer=csv.writer(new_csv_file,delimiter='\\t')\n",
    "            \n",
    "        for line in csv_reader:\n",
    "            csv_writer.writerow(line)"
   ]
  },
  {
   "cell_type": "code",
   "execution_count": null,
   "metadata": {},
   "outputs": [],
   "source": [
    "#Using dictreader, you can produce results in dictonary\n",
    "\n",
    "with open('csv_file.csv','r') as csv_file:\n",
    "    csv_reader=csv.DictReader(csv_file)\n",
    "    \n",
    "    #create a file with values from file in csv_file\n",
    "    with open('new_csv_file','w') as new_csv_file:\n",
    "        \n",
    "        field_name=['first_name','last_name','email']\n",
    "        \n",
    "        csv_writer=csv.DictWriter(new_csv_file,fieldnames=field_name,delimiter='\\t')\n",
    "        \n",
    "        csv_writer.writeheader()\n",
    "            \n",
    "        for line in csv_reader:\n",
    "            csv_writer.writerow(line)"
   ]
  },
  {
   "cell_type": "code",
   "execution_count": null,
   "metadata": {},
   "outputs": [],
   "source": [
    "#to delete perticular field\n",
    "\n",
    "with open('csv_file.csv','r') as csv_file:\n",
    "    csv_reader=csv.DictReader(csv_file)\n",
    "    \n",
    "    #create a file with values from file in csv_file\n",
    "    with open('new_csv_file','w') as new_csv_file:\n",
    "        \n",
    "        field_name=['first_name','last_name']\n",
    "        \n",
    "        csv_writer=csv.DictWriter(new_csv_file,fieldnames=field_name,delimiter='\\t')\n",
    "        \n",
    "        csv_writer.writeheader()\n",
    "            \n",
    "        for line in csv_reader:\n",
    "            del line['email']\n",
    "            csv_writer.writerow(line)"
   ]
  },
  {
   "cell_type": "markdown",
   "metadata": {},
   "source": [
    "## Exception"
   ]
  },
  {
   "cell_type": "code",
   "execution_count": null,
   "metadata": {},
   "outputs": [],
   "source": [
    "try:\n",
    "    f=open('testfile.txt',r)\n",
    "except Exception:\n",
    "    print('Sorry, File not found')"
   ]
  },
  {
   "cell_type": "code",
   "execution_count": null,
   "metadata": {},
   "outputs": [],
   "source": [
    "try:\n",
    "    f=open('csv_file.csv','r')\n",
    "    var=bad_var\n",
    "except FileNotFoundError:\n",
    "    print('Sorry, File not found')\n",
    "except Exception:\n",
    "    print('Something went Wrong!')"
   ]
  },
  {
   "cell_type": "code",
   "execution_count": null,
   "metadata": {},
   "outputs": [],
   "source": [
    "try:\n",
    "    f=open('csv_file.csv','r')\n",
    "    var=bad_var\n",
    "except FileNotFoundError as e:\n",
    "    print(e)\n",
    "except Exception as e:\n",
    "    print(e)"
   ]
  },
  {
   "cell_type": "code",
   "execution_count": null,
   "metadata": {},
   "outputs": [],
   "source": [
    "#else block will be executed if try didnt went into error\n",
    "\n",
    "try:\n",
    "    f=open('csv_file.csv','r')\n",
    "except FileNotFoundError as e:\n",
    "    print(e)\n",
    "except Exception as e:\n",
    "    print(e)\n",
    "    \n",
    "else:\n",
    "    print(f.read(10))\n",
    "    f.close()"
   ]
  },
  {
   "cell_type": "code",
   "execution_count": null,
   "metadata": {},
   "outputs": [],
   "source": [
    "#no matter what happens, finally will execute\n",
    "\n",
    "try:\n",
    "    f=open('csv_file.csv','r')\n",
    "except FileNotFoundError as e:\n",
    "    print(e)\n",
    "except Exception as e:\n",
    "    print(e)\n",
    "    \n",
    "else:\n",
    "    print(f.read(10))\n",
    "    f.close()\n",
    "    \n",
    "finally:\n",
    "    print('Executing Finally')"
   ]
  },
  {
   "cell_type": "code",
   "execution_count": null,
   "metadata": {},
   "outputs": [],
   "source": [
    "#manually raise exception\n",
    "\n",
    "try:\n",
    "    f=open('csvfile.csv','r')\n",
    "    if f.name=='bad_file.txt':\n",
    "        raise Exception\n",
    "except FileNotFoundError as e:\n",
    "    print(e)\n",
    "except Exception as e:\n",
    "    print('Error!')\n",
    "    \n",
    "else:\n",
    "    print(f.read(10))\n",
    "    f.close()\n",
    "    \n",
    "finally:\n",
    "    print('Executing Finally')"
   ]
  },
  {
   "cell_type": "markdown",
   "metadata": {},
   "source": [
    "## Duck Typing and Asking Forgiveness, Not Permission (EAFP)"
   ]
  },
  {
   "cell_type": "markdown",
   "metadata": {},
   "source": [
    " "
   ]
  },
  {
   "cell_type": "markdown",
   "metadata": {},
   "source": [
    "## Generators"
   ]
  },
  {
   "cell_type": "code",
   "execution_count": null,
   "metadata": {},
   "outputs": [],
   "source": [
    "#Generators doesnt store result in memory\n",
    "def square_nums(nums):\n",
    "    for i in nums:\n",
    "        yield (i*i)\n",
    "        \n",
    "my_nums=square_nums([1,2,3,4,5])\n",
    "print(my_nums)"
   ]
  },
  {
   "cell_type": "code",
   "execution_count": null,
   "metadata": {},
   "outputs": [],
   "source": [
    "def square_nums(nums):\n",
    "    for i in nums:\n",
    "        yield (i*i)\n",
    "        \n",
    "my_nums=square_nums([1,2,3,4,5])\n",
    "#print(my_nums)\n",
    "\n",
    "\n",
    "print(next(my_nums))\n",
    "print(next(my_nums))\n",
    "print(next(my_nums))\n",
    "print(next(my_nums))\n",
    "print(next(my_nums))"
   ]
  },
  {
   "cell_type": "code",
   "execution_count": null,
   "metadata": {},
   "outputs": [],
   "source": [
    "def square_nums(nums):\n",
    "    for i in nums:\n",
    "        yield (i*i)\n",
    "        \n",
    "my_nums=square_nums([1,2,3,4,5])\n",
    "#print(my_nums)\n",
    "\n",
    "for i in my_nums:\n",
    "    print(i)"
   ]
  },
  {
   "cell_type": "code",
   "execution_count": null,
   "metadata": {},
   "outputs": [],
   "source": [
    "#it can also be achived using list comprihension by repacing []\n",
    "\n",
    "my_nums=(i*i for i in [1,2,3,4,5])\n",
    "#print(my_nums)\n",
    "print(list(my_nums))\n",
    "\n",
    "for i in my_nums:\n",
    "    print(i)"
   ]
  },
  {
   "cell_type": "code",
   "execution_count": null,
   "metadata": {},
   "outputs": [],
   "source": []
  }
 ],
 "metadata": {
  "kernelspec": {
   "display_name": "Python 3",
   "language": "python",
   "name": "python3"
  },
  "language_info": {
   "codemirror_mode": {
    "name": "ipython",
    "version": 3
   },
   "file_extension": ".py",
   "mimetype": "text/x-python",
   "name": "python",
   "nbconvert_exporter": "python",
   "pygments_lexer": "ipython3",
   "version": "3.7.0"
  }
 },
 "nbformat": 4,
 "nbformat_minor": 2
}
